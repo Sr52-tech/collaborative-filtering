{
 "cells": [
  {
   "cell_type": "code",
   "execution_count": 29,
   "metadata": {},
   "outputs": [],
   "source": [
    "import pandas as pd\n",
    "import numpy as np\n",
    "from sklearn.metrics.pairwise import cosine_similarity\n",
    "from sklearn.impute import KNNImputer\n",
    "from sklearn.model_selection import train_test_split\n",
    "from collections import defaultdict"
   ]
  },
  {
   "cell_type": "code",
   "execution_count": 30,
   "metadata": {},
   "outputs": [],
   "source": [
    "data = pd.read_csv('google_review_ratings.csv')\n",
    "\n",
    "data = pd.DataFrame(data)"
   ]
  },
  {
   "cell_type": "code",
   "execution_count": 31,
   "metadata": {},
   "outputs": [],
   "source": [
    "old = [\"User\", \"Category 1\", \"Category 2\", \"Category 3\", \"Category 4\", \"Category 5\",\n",
    "        \"Category 6\", \"Category 7\", \"Category 8\", \"Category 9\", \"Category 10\",\n",
    "        \"Category 11\", \"Category 12\", \"Category 13\", \"Category 14\", \"Category 15\",\n",
    "        \"Category 16\", \"Category 17\", \"Category 18\", \"Category 19\", \"Category 20\",\n",
    "        \"Category 21\", \"Category 22\", \"Category 23\", \"Category 24\", \"location\"\n",
    "        ]\n",
    "\n",
    "new = [\"User\",\"ART CENTRES AND GALLERIES\", \"FORTS\", \"MONUMENTS\", \"MUSEUMS\", \"PALACES\",\n",
    "        \"HANDICRAFT CENTERS\", \"SCIENCE CENTRES\", \"HISTORICAL PLACES\", \"THEATRES\",\n",
    "        \"LANDMARKS\", \"HORSE STABLES\", \"NATIONAL PARKS\", \"WATERFALLS\", \"MALLS\",\n",
    "        \"BEACHES\", \"SPRINGS\", \"WILDLIFE SANCTUARIES\", \"RESTAURANTS\", \"SOCIAL CLUBS\",\n",
    "        \"INTERTAINMENTS\", \"ZOOS\", \"POOLS\", \"GYMS\", \"CULTURAL CENTERS\", \"location\"\n",
    "        ]\n",
    "\n",
    "# Create a dictionary mapping old names to new names\n",
    "name_mapping = dict(zip(old, new))\n",
    "\n",
    "# Rename the columns\n",
    "data = data.rename(columns=name_mapping)"
   ]
  },
  {
   "cell_type": "code",
   "execution_count": 32,
   "metadata": {},
   "outputs": [
    {
     "name": "stdout",
     "output_type": "stream",
     "text": [
      "Missing values in each column:\n",
      "User                         0\n",
      "ART CENTRES AND GALLERIES    0\n",
      "FORTS                        0\n",
      "MONUMENTS                    0\n",
      "MUSEUMS                      0\n",
      "PALACES                      0\n",
      "HANDICRAFT CENTERS           0\n",
      "SCIENCE CENTRES              0\n",
      "HISTORICAL PLACES            0\n",
      "THEATRES                     0\n",
      "LANDMARKS                    0\n",
      "HORSE STABLES                0\n",
      "NATIONAL PARKS               1\n",
      "WATERFALLS                   0\n",
      "MALLS                        0\n",
      "BEACHES                      0\n",
      "SPRINGS                      0\n",
      "WILDLIFE SANCTUARIES         0\n",
      "RESTAURANTS                  0\n",
      "SOCIAL CLUBS                 0\n",
      "INTERTAINMENTS               0\n",
      "ZOOS                         0\n",
      "POOLS                        0\n",
      "GYMS                         0\n",
      "CULTURAL CENTERS             1\n",
      "location                     0\n",
      "dtype: int64\n"
     ]
    }
   ],
   "source": [
    "print(\"Missing values in each column:\")\n",
    "print(data.isnull().sum())"
   ]
  },
  {
   "cell_type": "code",
   "execution_count": 33,
   "metadata": {},
   "outputs": [
    {
     "name": "stdout",
     "output_type": "stream",
     "text": [
      "RangeIndex(start=0, stop=5456, step=1)\n"
     ]
    }
   ],
   "source": [
    "print(data.index)"
   ]
  },
  {
   "cell_type": "code",
   "execution_count": 34,
   "metadata": {},
   "outputs": [],
   "source": [
    "data_train, data_test = train_test_split(data, test_size=0.3)"
   ]
  },
  {
   "cell_type": "code",
   "execution_count": 35,
   "metadata": {},
   "outputs": [
    {
     "name": "stdout",
     "output_type": "stream",
     "text": [
      "Similarity DataFrame:\n",
      "           0         1         2         3         4         5         6     \\\n",
      "0     1.000000  0.999667  0.999660  0.998940  0.999660  0.999683  0.883147   \n",
      "1     0.999667  1.000000  0.999998  0.998608  0.999998  0.999997  0.883331   \n",
      "2     0.999660  0.999998  1.000000  0.998605  1.000000  0.999998  0.883262   \n",
      "3     0.998940  0.998608  0.998605  1.000000  0.998605  0.998630  0.902536   \n",
      "4     0.999660  0.999998  1.000000  0.998605  1.000000  0.999998  0.883262   \n",
      "...        ...       ...       ...       ...       ...       ...       ...   \n",
      "5451  0.575006  0.573585  0.573616  0.591164  0.573616  0.573594  0.685359   \n",
      "5452  0.589581  0.588379  0.588352  0.608449  0.588352  0.588327  0.730370   \n",
      "5453  0.543419  0.542300  0.542269  0.561062  0.542269  0.542257  0.675639   \n",
      "5454  0.566387  0.564980  0.564989  0.579870  0.564989  0.564978  0.659060   \n",
      "5455  0.585599  0.584129  0.584137  0.599653  0.584137  0.584127  0.673102   \n",
      "\n",
      "          7         8         9     ...      5446      5447      5448  \\\n",
      "0     0.909148  0.876902  0.900635  ...  0.586682  0.549544  0.544729   \n",
      "1     0.909437  0.877796  0.900446  ...  0.585173  0.548145  0.543495   \n",
      "2     0.909438  0.877716  0.900427  ...  0.585250  0.548208  0.543520   \n",
      "3     0.927278  0.896411  0.919071  ...  0.597990  0.560434  0.560174   \n",
      "4     0.909438  0.877716  0.900427  ...  0.585250  0.548208  0.543520   \n",
      "...        ...       ...       ...  ...       ...       ...       ...   \n",
      "5451  0.674187  0.656548  0.647770  ...  0.927429  0.920083  0.964170   \n",
      "5452  0.712486  0.727693  0.707071  ...  0.877669  0.846124  0.889941   \n",
      "5453  0.659067  0.673255  0.656996  ...  0.885839  0.872909  0.920594   \n",
      "5454  0.642228  0.628799  0.613875  ...  0.931820  0.916148  0.962698   \n",
      "5455  0.665088  0.670969  0.663405  ...  0.886906  0.874290  0.915578   \n",
      "\n",
      "          5449      5450      5451      5452      5453      5454      5455  \n",
      "0     0.586457  0.547907  0.575006  0.589581  0.543419  0.566387  0.585599  \n",
      "1     0.585097  0.546745  0.573585  0.588379  0.542300  0.564980  0.584129  \n",
      "2     0.585127  0.546744  0.573616  0.588352  0.542269  0.564989  0.584137  \n",
      "3     0.599318  0.560817  0.591164  0.608449  0.561062  0.579870  0.599653  \n",
      "4     0.585127  0.546744  0.573616  0.588352  0.542269  0.564989  0.584137  \n",
      "...        ...       ...       ...       ...       ...       ...       ...  \n",
      "5451  0.995401  0.925387  1.000000  0.918322  0.951550  0.996141  0.946699  \n",
      "5452  0.907532  0.917290  0.918322  1.000000  0.960782  0.908878  0.954279  \n",
      "5453  0.943282  0.948896  0.951550  0.960782  1.000000  0.946403  0.992874  \n",
      "5454  0.996264  0.914958  0.996141  0.908878  0.946403  1.000000  0.944701  \n",
      "5455  0.944303  0.951760  0.946699  0.954279  0.992874  0.944701  1.000000  \n",
      "\n",
      "[5456 rows x 5456 columns]\n"
     ]
    }
   ],
   "source": [
    "# Convert all columns to numeric, errors='coerce' will set non-numeric values to NaN\n",
    "data_numeric = data.apply(pd.to_numeric, errors='coerce')\n",
    "\n",
    "data_numeric_filled = data_numeric.fillna(0)\n",
    "\n",
    "# Compute cosine similarity\n",
    "user_similarity = cosine_similarity(data_numeric_filled)\n",
    "\n",
    "similarity_df = pd.DataFrame(user_similarity, index=data.index, columns=data.index)\n",
    "\n",
    "print(\"Similarity DataFrame:\\n\", similarity_df)\n",
    "\n"
   ]
  },
  {
   "cell_type": "code",
   "execution_count": 36,
   "metadata": {},
   "outputs": [
    {
     "name": "stdout",
     "output_type": "stream",
     "text": [
      "Missing values in each column:\n",
      "User                         0\n",
      "ART CENTRES AND GALLERIES    0\n",
      "FORTS                        0\n",
      "MONUMENTS                    0\n",
      "MUSEUMS                      0\n",
      "PALACES                      0\n",
      "HANDICRAFT CENTERS           0\n",
      "SCIENCE CENTRES              0\n",
      "HISTORICAL PLACES            0\n",
      "THEATRES                     0\n",
      "LANDMARKS                    0\n",
      "HORSE STABLES                0\n",
      "NATIONAL PARKS               1\n",
      "WATERFALLS                   0\n",
      "MALLS                        0\n",
      "BEACHES                      0\n",
      "SPRINGS                      0\n",
      "WILDLIFE SANCTUARIES         0\n",
      "RESTAURANTS                  0\n",
      "SOCIAL CLUBS                 0\n",
      "INTERTAINMENTS               0\n",
      "ZOOS                         0\n",
      "POOLS                        0\n",
      "GYMS                         0\n",
      "CULTURAL CENTERS             1\n",
      "location                     0\n",
      "dtype: int64\n"
     ]
    }
   ],
   "source": [
    "print(\"Missing values in each column:\")\n",
    "print(data.isnull().sum())"
   ]
  },
  {
   "cell_type": "code",
   "execution_count": 38,
   "metadata": {},
   "outputs": [
    {
     "name": "stdout",
     "output_type": "stream",
     "text": [
      "Filled NaN for user 1347, category CULTURAL CENTERS with average rating 1.11\n",
      "User 1347 has similarity 0.99 with user 1336\n",
      "User 1347 has similarity 0.98 with user 2283\n",
      "User 1347 has similarity 0.98 with user 4083\n",
      "User 1347 has similarity 0.97 with user 1340\n",
      "User 1347 has similarity 0.97 with user 1375\n",
      "Filled NaN for user 2712, category NATIONAL PARKS with average rating 0.90\n",
      "User 2712 has similarity 0.94 with user 2732\n",
      "User 2712 has similarity 0.94 with user 2703\n",
      "User 2712 has similarity 0.94 with user 2716\n",
      "User 2712 has similarity 0.94 with user 5349\n",
      "User 2712 has similarity 0.94 with user 2725\n",
      "Updated data:\n",
      "            User  ART CENTRES AND GALLERIES  FORTS  MONUMENTS  MUSEUMS  \\\n",
      "0        User 1                       0.00   0.00       3.63     3.65   \n",
      "1        User 2                       0.00   0.00       3.63     3.65   \n",
      "2        User 3                       0.00   0.00       3.63     3.63   \n",
      "3        User 4                       0.00   0.50       3.63     3.63   \n",
      "4        User 5                       0.00   0.00       3.63     3.63   \n",
      "...         ...                        ...    ...        ...      ...   \n",
      "5451  User 5452                       0.91   5.00       4.00     2.79   \n",
      "5452  User 5453                       0.93   5.00       4.02     2.79   \n",
      "5453  User 5454                       0.94   5.00       4.03     2.80   \n",
      "5454  User 5455                       0.95   4.05       4.05     2.81   \n",
      "5455  User 5456                       0.95   4.07       5.00     2.82   \n",
      "\n",
      "      PALACES  HANDICRAFT CENTERS  SCIENCE CENTRES  HISTORICAL PLACES  \\\n",
      "0        5.00                2.92             5.00               2.35   \n",
      "1        5.00                2.92             5.00               2.64   \n",
      "2        5.00                2.92             5.00               2.64   \n",
      "3        5.00                2.92             5.00               2.35   \n",
      "4        5.00                2.92             5.00               2.64   \n",
      "...       ...                 ...              ...                ...   \n",
      "5451     2.77                2.57             2.43               1.09   \n",
      "5452     2.78                2.57             1.77               1.07   \n",
      "5453     2.78                2.57             1.75               1.05   \n",
      "5454     2.79                2.44             1.76               1.03   \n",
      "5455     2.80                2.57             2.42               1.02   \n",
      "\n",
      "      THEATRES  ...  SPRINGS WILDLIFE SANCTUARIES  RESTAURANTS  SOCIAL CLUBS  \\\n",
      "0         2.33  ...     0.59                 0.50         0.00          0.50   \n",
      "1         2.33  ...     0.59                 0.50         0.00          0.50   \n",
      "2         2.33  ...     0.59                 0.50         0.00          0.50   \n",
      "3         2.33  ...     0.59                 0.50         0.00          0.50   \n",
      "4         2.33  ...     0.59                 0.50         0.00          0.50   \n",
      "...        ...  ...      ...                  ...          ...           ...   \n",
      "5451      1.77  ...     0.66                 0.65         0.66          0.69   \n",
      "5452      1.76  ...     0.65                 0.64         0.65          1.59   \n",
      "5453      1.75  ...     0.65                 0.63         0.64          0.74   \n",
      "5454      1.74  ...     0.64                 0.63         0.64          0.75   \n",
      "5455      1.74  ...     0.64                 0.62         0.63          0.78   \n",
      "\n",
      "      INTERTAINMENTS  ZOOS  POOLS  GYMS  CULTURAL CENTERS       location  \n",
      "0               0.00  0.00    0.0   0.0              0.00         Zallaq  \n",
      "1               0.00  0.00    0.0   0.0              0.00         MANAMA  \n",
      "2               0.00  0.00    0.0   0.0              0.00       MUHARRAQ  \n",
      "3               0.00  0.00    0.0   0.0              0.00       MUHARRAQ  \n",
      "4               0.00  0.00    0.0   0.0              0.00          A'ALI  \n",
      "...              ...   ...    ...   ...               ...            ...  \n",
      "5451            5.00  1.05    5.0   5.0              1.56  MANAMA CENTRE  \n",
      "5452            1.62  1.06    5.0   5.0              1.09          A'ALI  \n",
      "5453            5.00  1.07    5.0   5.0              1.11         JASRAH  \n",
      "5454            5.00  1.08    5.0   5.0              1.12       ALKHAMIS  \n",
      "5455            5.00  1.08    5.0   5.0              1.17         JASRAH  \n",
      "\n",
      "[5456 rows x 26 columns]\n"
     ]
    }
   ],
   "source": [
    "def fill_nans_with_top_k_average(data, similarity_matrix, k=5):\n",
    "    for user in data.index:\n",
    "        for category in data.columns[1:-1]:\n",
    "            if pd.isna(data.loc[user, category]):\n",
    "                # Find the top k most similar users (excluding the user itself)\n",
    "                most_similar_users = similarity_matrix.loc[user].sort_values(ascending=False).head(k + 1)[1:]\n",
    "                # Get the data of the most similar users\n",
    "                similar_users_data = data.loc[most_similar_users.index]\n",
    "                # Compute the average rating for the category\n",
    "                avg_rating = similar_users_data[category].mean()\n",
    "                # Fill the NaN value with the average rating\n",
    "                data.loc[user, category] = avg_rating\n",
    "                print(f\"Filled NaN for user {user}, category {category} with average rating {avg_rating:.2f}\")\n",
    "                \n",
    "                # Print the similarity values of each user from the top 5 similar users\n",
    "                for similar_user, similarity in most_similar_users.items():\n",
    "                    print(f\"User {user} has similarity {similarity:.2f} with user {similar_user}\")\n",
    "\n",
    "# Call the function to fill NaNs in the data\n",
    "fill_nans_with_top_k_average(data, similarity_df, k=5)\n",
    "\n",
    "# Print the updated data\n",
    "print(\"Updated data:\\n\", data)\n"
   ]
  },
  {
   "cell_type": "code",
   "execution_count": 39,
   "metadata": {},
   "outputs": [
    {
     "name": "stdout",
     "output_type": "stream",
     "text": [
      "Missing values in each column:\n",
      "User                         0\n",
      "ART CENTRES AND GALLERIES    0\n",
      "FORTS                        0\n",
      "MONUMENTS                    0\n",
      "MUSEUMS                      0\n",
      "PALACES                      0\n",
      "HANDICRAFT CENTERS           0\n",
      "SCIENCE CENTRES              0\n",
      "HISTORICAL PLACES            0\n",
      "THEATRES                     0\n",
      "LANDMARKS                    0\n",
      "HORSE STABLES                0\n",
      "NATIONAL PARKS               0\n",
      "WATERFALLS                   0\n",
      "MALLS                        0\n",
      "BEACHES                      0\n",
      "SPRINGS                      0\n",
      "WILDLIFE SANCTUARIES         0\n",
      "RESTAURANTS                  0\n",
      "SOCIAL CLUBS                 0\n",
      "INTERTAINMENTS               0\n",
      "ZOOS                         0\n",
      "POOLS                        0\n",
      "GYMS                         0\n",
      "CULTURAL CENTERS             0\n",
      "location                     0\n",
      "dtype: int64\n"
     ]
    }
   ],
   "source": [
    "print(\"Missing values in each column:\")\n",
    "print(data.isnull().sum())"
   ]
  }
 ],
 "metadata": {
  "kernelspec": {
   "display_name": "Python 3",
   "language": "python",
   "name": "python3"
  },
  "language_info": {
   "codemirror_mode": {
    "name": "ipython",
    "version": 3
   },
   "file_extension": ".py",
   "mimetype": "text/x-python",
   "name": "python",
   "nbconvert_exporter": "python",
   "pygments_lexer": "ipython3",
   "version": "3.11.1"
  }
 },
 "nbformat": 4,
 "nbformat_minor": 2
}
